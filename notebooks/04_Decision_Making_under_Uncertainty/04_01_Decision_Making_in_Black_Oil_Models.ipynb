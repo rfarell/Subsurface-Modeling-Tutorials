{
    "cells": [
        {
            "cell_type": "markdown",
            "metadata": {},
            "source": [
                "- Local level, wells interfere with one another.\n",
                "- On a global level, well's don't interfere and thus can be treated as independent. Given some model of the resource distribution, the game becomes one of optimal exploration/exploitation."
            ]
        },
        {
            "cell_type": "markdown",
            "metadata": {},
            "source": []
        }
    ],
    "metadata": {
        "language_info": {
            "name": "python"
        }
    },
    "nbformat": 4,
    "nbformat_minor": 4
}
