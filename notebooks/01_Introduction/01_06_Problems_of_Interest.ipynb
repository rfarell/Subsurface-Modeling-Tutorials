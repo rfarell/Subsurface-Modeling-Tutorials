{
    "cells": [
        {
            "cell_type": "markdown",
            "metadata": {},
            "source": [
                "# Problems of Interest\n",
                "\n",
                "This notebook is aimed at detailing key problems of interest in the field of reservoir modeling and simulation. These problems are geared towards understanding the forward modeling, inverse problems, and optimal decision-making processes. These problems intersect at multiple points with computational mathematics, machine learning, and uncertainty quantification.\n",
                "\n",
                "## Learning a Reduced-Order Model for the Forward Simulator under Varying Conditions\n",
                "\n",
                "### Introduction\n",
                "\n",
                "Reduced-Order Models (ROMs) aim to approximate the behavior of high-fidelity simulations with significantly reduced computational cost. In the context of reservoir simulation, ROMs are particularly useful for quickly assessing the performance of a reservoir under a range of conditions.\n",
                "\n",
                "### Problem Formulation\n",
                "\n",
                "The objective is to construct a ROM $ f_{\\text{ROM}} $ such that for varying initial conditions $ \\mathbf{I} $, boundary conditions $ \\mathbf{B} $, field parameters $ \\mathbf{P} $, and forcing terms $ \\mathbf{F} $, the following holds:\n",
                "\n",
                "$$\n",
                "|| f_{\\text{high-fidelity}}(\\mathbf{I}, \\mathbf{B}, \\mathbf{P}, \\mathbf{F}) - f_{\\text{ROM}}(\\mathbf{I}, \\mathbf{B}, \\mathbf{P}, \\mathbf{F}) || < \\epsilon\n",
                "$$\n",
                "\n",
                "where $ \\epsilon $ is a user-defined error tolerance.\n",
                "\n",
                "---\n",
                "\n",
                "## Learning a Probabilistic Model of the Inverse Problem for History Matching\n",
                "\n",
                "### Introduction\n",
                "\n",
                "History matching is an inverse problem where one aims to calibrate a model to fit historical production data. Unlike deterministic approaches, probabilistic models capture the uncertainty in the parameters and forecasts.\n",
                "\n",
                "### Problem Formulation\n",
                "\n",
                "Given a set of historical data $ \\mathcal{D} $, the objective is to infer a posterior distribution $ P(\\mathbf{P}|\\mathcal{D}) $ over the parameters $ \\mathbf{P} $, according to Bayes' theorem:\n",
                "\n",
                "$$\n",
                "P(\\mathbf{P}|\\mathcal{D}) \\propto P(\\mathcal{D}|\\mathbf{P}) P(\\mathbf{P})\n",
                "$$\n",
                "\n",
                "This allows for uncertainty quantification in the history matching process.\n",
                "\n",
                "---\n",
                "\n",
                "## Optimal Sequential Decision-Making Over the Life of the Reservoir\n",
                "\n",
                "### Introduction\n",
                "\n",
                "Optimal decision-making in reservoir management involves choosing a sequence of actions to maximize some objective, often subject to various constraints. These decisions can be complex due to uncertainties in reservoir properties and market conditions.\n",
                "\n",
                "### Problem Formulation\n",
                "\n",
                "The problem can be framed as a Markov Decision Process (MDP) where the state $ s $ represents the current condition of the reservoir, and $ a $ represents possible actions like changing the rate of extraction. The objective is to find a policy $ \\pi $ that maximizes the expected reward $ R $:\n",
                "\n",
                "$$\n",
                "\\pi^* = \\arg \\max_\\pi E[R(s, a, \\pi)]\n",
                "$$\n",
                "\n",
                "Here, $ R(s, a, \\pi) $ is a reward function capturing the economics and other objectives of the reservoir management."
            ]
        },
        {
            "cell_type": "markdown",
            "metadata": {},
            "source": []
        }
    ],
    "metadata": {
        "language_info": {
            "name": "python"
        }
    },
    "nbformat": 4,
    "nbformat_minor": 4
}
