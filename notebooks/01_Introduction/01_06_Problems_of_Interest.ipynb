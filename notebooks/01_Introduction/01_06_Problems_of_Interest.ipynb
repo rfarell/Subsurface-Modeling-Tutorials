{
    "cells": [
        {
            "cell_type": "markdown",
            "metadata": {},
            "source": [
                "- Learning a reduced-order-model fo the forward simulator under varying initial conditions, boundary conditions, field parameters, and forcing terms.\n",
                "- Learning a probabilistic model of the inverse problem for history matching. \n",
                "- Optimal sequential decision making over the life of the reservoir."
            ]
        },
        {
            "cell_type": "markdown",
            "metadata": {},
            "source": []
        }
    ],
    "metadata": {
        "language_info": {
            "name": "python"
        }
    },
    "nbformat": 4,
    "nbformat_minor": 4
}
