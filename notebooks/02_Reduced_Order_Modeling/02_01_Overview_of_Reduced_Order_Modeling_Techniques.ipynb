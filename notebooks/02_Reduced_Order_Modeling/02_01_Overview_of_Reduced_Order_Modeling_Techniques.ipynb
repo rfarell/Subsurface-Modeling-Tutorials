{
    "cells": [
        {
            "cell_type": "markdown",
            "metadata": {},
            "source": [
                "- DL-ROM\n",
                "- POD-DL-ROM\n",
                "- UFNO\n",
                "- FNO\n",
                "- Kernel Operator\n",
                "- PINNS\n",
                "- DeepONet"
            ]
        },
        {
            "cell_type": "markdown",
            "metadata": {},
            "source": []
        }
    ],
    "metadata": {
        "language_info": {
            "name": "python"
        }
    },
    "nbformat": 4,
    "nbformat_minor": 4
}
